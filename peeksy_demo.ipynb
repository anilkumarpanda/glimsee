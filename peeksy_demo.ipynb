{
 "cells": [
  {
   "cell_type": "code",
   "execution_count": 1,
   "metadata": {
    "collapsed": true
   },
   "outputs": [],
   "source": [
    "import cognitive_face as CF\n",
    "\n",
    "KEY = '6dbf3331c9e147d99200f0cab09d2ea0'  # Replace with a valid Subscription Key here.\n",
    "CF.Key.set(KEY)\n",
    "\n",
    "BASE_URL = 'https://westeurope.api.cognitive.microsoft.com/face/v1.0/'  # Replace with your regional Base URL\n",
    "CF.BaseUrl.set(BASE_URL)"
   ]
  },
  {
   "cell_type": "code",
   "execution_count": 3,
   "metadata": {},
   "outputs": [
    {
     "name": "stdout",
     "output_type": "stream",
     "text": [
      "opencv_frame_0.png written!\n",
      "Erdenay NL15ABNA0430202662,+31600000005,erdenay@gmail.com\n",
      "Siamak NL78ABNA0505429684,+31600000009,siamak@gmail.com\n",
      "person doesnt exist\n",
      "\n",
      "opencv_frame_1.png written!\n",
      "Erdenay NL15ABNA0430202662,+31600000005,erdenay@gmail.com\n",
      "Siamak NL78ABNA0505429684,+31600000009,siamak@gmail.com\n",
      "person doesnt exist\n",
      "\n",
      "opencv_frame_2.png written!\n",
      "Siamak NL78ABNA0505429684,+31600000009,siamak@gmail.com\n",
      "person doesnt exist\n",
      "\n",
      "opencv_frame_3.png written!\n",
      "Erdenay NL15ABNA0430202662,+31600000005,erdenay@gmail.com\n",
      "Siamak NL78ABNA0505429684,+31600000009,siamak@gmail.com\n",
      "person doesnt exist\n",
      "\n",
      "opencv_frame_4.png written!\n",
      "Erdenay NL15ABNA0430202662,+31600000005,erdenay@gmail.com\n",
      "Siamak NL78ABNA0505429684,+31600000009,siamak@gmail.com\n",
      "person doesnt exist\n",
      "\n",
      "opencv_frame_5.png written!\n",
      "person doesnt exist\n",
      "\n",
      "opencv_frame_6.png written!\n",
      "Erdenay NL15ABNA0430202662,+31600000005,erdenay@gmail.com\n",
      "Siamak NL78ABNA0505429684,+31600000009,siamak@gmail.com\n",
      "\n",
      "opencv_frame_7.png written!\n",
      "face can not be detected\n",
      "\n",
      "opencv_frame_8.png written!\n",
      "person doesnt exist\n",
      "\n",
      "opencv_frame_9.png written!\n",
      "face can not be detected\n",
      "\n",
      "Escape hit, closing...\n"
     ]
    }
   ],
   "source": [
    "import cv2\n",
    "\n",
    "cam = cv2.VideoCapture(0)\n",
    "cv2.namedWindow(\"identify\")\n",
    "img_counter = 0\n",
    "\n",
    "while True:\n",
    "    ret, frame = cam.read()\n",
    "    cv2.imshow(\"identify\", frame)\n",
    "    if not ret:\n",
    "        break\n",
    "    k = cv2.waitKey(1)\n",
    "\n",
    "    if k%256 == 27:\n",
    "        # ESC pressed\n",
    "        print(\"Escape hit, closing...\")\n",
    "        break\n",
    "    elif k%256 == 32:\n",
    "        # SPACE pressed\n",
    "        img_name = \"opencv_frame_{}.png\".format(img_counter)\n",
    "        cv2.imwrite(img_name, frame)\n",
    "        \n",
    "        print(\"{} written!\".format(img_name))\n",
    "        img_counter += 1\n",
    "        \n",
    "        face_id = CF.face.detect(img_name)\n",
    "        if(len(face_id) > 0):\n",
    "            for f in list(range(0, len(face_id))):\n",
    "                candidate = CF.face.identify(face_ids = [face_id[f]['faceId']], person_group_id = 'testperson_grp1', threshold=0.5, max_candidates_return=1)\n",
    "                if(len(candidate [0]['candidates']) > 0):\n",
    "                    result = CF.person.get(person_id=candidate[0]['candidates'][0]['personId'], person_group_id='testperson_grp1')\n",
    "                    print(result['name'], result['userData'])\n",
    "                else:\n",
    "                    print('person doesnt exist')\n",
    "        else:\n",
    "            print('face can not be detected')\n",
    "        print('')\n",
    "            \n",
    "cam.release()\n",
    "cv2.destroyAllWindows()"
   ]
  },
  {
   "cell_type": "code",
   "execution_count": 2,
   "metadata": {},
   "outputs": [
    {
     "name": "stdout",
     "output_type": "stream",
     "text": [
      "Name Siamak\n",
      "IBAN NL78ABNA0505429684\n",
      "email siamak@gmail.com\n",
      "phone +31600000009\n",
      "opencv_frame_0.png written!\n",
      "opencv_frame_1.png written!\n",
      "opencv_frame_2.png written!\n",
      "opencv_frame_3.png written!\n",
      "opencv_frame_4.png written!\n"
     ]
    },
    {
     "data": {
      "text/plain": [
       "{}"
      ]
     },
     "execution_count": 2,
     "metadata": {},
     "output_type": "execute_result"
    }
   ],
   "source": [
    "import cv2\n",
    "\n",
    "cam = cv2.VideoCapture(0)\n",
    "cv2.namedWindow(\"register\")\n",
    "img_counter = 0\n",
    "valid_img_counter = 0\n",
    "\n",
    "name = input('Name ')\n",
    "iban = input('IBAN ') \n",
    "email = input('email ')\n",
    "phone = input('phone ')\n",
    "\n",
    "user_data = iban + ',' + phone + ',' + email\n",
    "\n",
    "person = CF.person.create(name=name, person_group_id='testperson_grp1', user_data=user_data)\n",
    "\n",
    "while True:\n",
    "    ret, frame = cam.read()\n",
    "    cv2.imshow(\"register\", frame)\n",
    "    if not ret:\n",
    "        break\n",
    "    k = cv2.waitKey(1)\n",
    "    \n",
    "    if (valid_img_counter == 5):\n",
    "        break\n",
    "        \n",
    "    if k%256 == 27:\n",
    "        # ESC pressed\n",
    "        print(\"Escape hit, closing...\")\n",
    "        break\n",
    "    elif k%256 == 32:\n",
    "        # SPACE pressed\n",
    "        img_name = \"opencv_frame_{}.png\".format(img_counter)\n",
    "        cv2.imwrite(img_name, frame)\n",
    "        print(\"{} written!\".format(img_name))\n",
    "        img_counter += 1\n",
    "        \n",
    "        face_id = CF.face.detect(img_name)\n",
    "        if(len(face_id) > 0):\n",
    "            valid_img_counter += 1\n",
    "            CF.person.add_face(image=img_name, person_group_id='testperson_grp1', person_id=person['personId'])\n",
    "        else:\n",
    "            print('face can not be detected, try again')\n",
    "            \n",
    "cam.release()\n",
    "cv2.destroyAllWindows()\n",
    "CF.person_group.train(person_group_id='testperson_grp1')"
   ]
  },
  {
   "cell_type": "code",
   "execution_count": null,
   "metadata": {
    "collapsed": true
   },
   "outputs": [],
   "source": []
  }
 ],
 "metadata": {
  "kernelspec": {
   "display_name": "Python 3",
   "language": "python",
   "name": "python3"
  },
  "language_info": {
   "codemirror_mode": {
    "name": "ipython",
    "version": 3
   },
   "file_extension": ".py",
   "mimetype": "text/x-python",
   "name": "python",
   "nbconvert_exporter": "python",
   "pygments_lexer": "ipython3",
   "version": "3.6.1"
  }
 },
 "nbformat": 4,
 "nbformat_minor": 2
}
